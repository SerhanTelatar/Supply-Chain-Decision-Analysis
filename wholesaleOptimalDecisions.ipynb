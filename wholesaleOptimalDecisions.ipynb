{
 "cells": [
  {
   "cell_type": "code",
   "execution_count": 3,
   "metadata": {},
   "outputs": [],
   "source": [
    "import pandas as pd\n",
    "import numpy as np\n",
    "from collections import defaultdict\n",
    "from gym import Env, spaces\n",
    "import random\n",
    "import itertools\n",
    "import pickle"
   ]
  },
  {
   "cell_type": "code",
   "execution_count": 4,
   "metadata": {},
   "outputs": [],
   "source": [
    "potential_demand = np.arange(50, 151)  # Possible demand values from 50 to 150\n",
    "stock_list = np.arange(50, 151)       # Possible stock values from 50 to 150\n",
    "expected_sales = {}                   # Dictionary to store expected sales\n",
    "\n",
    "\n",
    "for stock in stock_list:\n",
    "    cumulative_expected_sales = 0\n",
    "    for demand_realization in potential_demand:\n",
    "        sales = min(demand_realization, stock)\n",
    "        cumulative_expected_sales += sales\n",
    "\n",
    "    # Calculate the average sales and store it in the dictionary\n",
    "    expected_sales[stock] = cumulative_expected_sales / len(potential_demand)"
   ]
  },
  {
   "cell_type": "code",
   "execution_count": 14,
   "metadata": {},
   "outputs": [],
   "source": [
    "payoff_matrix = []\n",
    "\n",
    "w_range = range(3, 13)\n",
    "action_range = range(5)\n",
    "\n",
    "for w in w_range:\n",
    "    for action in action_range:\n",
    "\n",
    "        \n",
    "        optimal_stock = 100 * ((12 - w) / 12) + 50\n",
    "\n",
    "        if action == 0:\n",
    "            Q = optimal_stock * 0.8\n",
    "        elif action == 1:\n",
    "            Q = optimal_stock * 0.9\n",
    "        elif action == 2:\n",
    "            Q = optimal_stock\n",
    "        elif action == 3:\n",
    "            Q = optimal_stock * 1.1\n",
    "        elif action == 4:\n",
    "            Q = optimal_stock * 1.2\n",
    "        else:\n",
    "            Q = optimal_stock\n",
    "\n",
    "        Q = int(round(Q))\n",
    "        Q = max(0, min(Q, 150))\n",
    "\n",
    "        sales = expected_sales.get(Q, 0)\n",
    "        leftovers = Q - sales\n",
    "\n",
    "        c = 3\n",
    "        p = 12\n",
    "        \n",
    "        retailer_profit = p * sales - w * Q\n",
    "        manufacturer_profit = (w - c) * Q\n",
    "\n",
    "        payoff_matrix.append({\n",
    "            \"w\": w,\n",
    "            \"action\": action,\n",
    "            \"retailer_profit\": retailer_profit,\n",
    "            \"manufacturer_profit\": manufacturer_profit\n",
    "        })"
   ]
  },
  {
   "cell_type": "code",
   "execution_count": 15,
   "metadata": {},
   "outputs": [
    {
     "name": "stdout",
     "output_type": "stream",
     "text": [
      "Optimal Manufacturer Price (w): 10\n",
      "Retailer's Optimal Action: 2\n",
      "Retailer Profit: 115.82178217821786\n",
      "Manufacturer Profit: 469\n"
     ]
    }
   ],
   "source": [
    "# To store the results\n",
    "results = []\n",
    "\n",
    "# Manufacturer decides w first\n",
    "for w in w_range:\n",
    "    best_action = None\n",
    "    best_retailer_profit = float('-inf')\n",
    "    Q_best = 0\n",
    "\n",
    "    # Retailer decides action based on the given w\n",
    "    for action in action_range:\n",
    "        optimal_stock = 100 * ((12 - w) / 12) + 50\n",
    "        if action == 0:\n",
    "            Q = optimal_stock * 0.8\n",
    "        elif action == 1:\n",
    "            Q = optimal_stock * 0.9\n",
    "        elif action == 2:\n",
    "            Q = optimal_stock\n",
    "        elif action == 3:\n",
    "            Q = optimal_stock * 1.1\n",
    "        elif action == 4:\n",
    "            Q = optimal_stock * 1.2\n",
    "\n",
    "        Q = int(round(Q))\n",
    "        Q = max(0, min(Q, 150))\n",
    "\n",
    "        sales = expected_sales.get(Q, 0)\n",
    "        retailer_profit = 12 * sales - w * Q\n",
    "\n",
    "        if retailer_profit > best_retailer_profit:\n",
    "            best_retailer_profit = retailer_profit\n",
    "            best_action = action\n",
    "            Q_best = Q\n",
    "\n",
    "    # Manufacturer calculates their profit based on retailer's best action\n",
    "    manufacturer_profit = (w - 3) * Q_best\n",
    "    results.append({\n",
    "        \"w\": w,\n",
    "        \"action\": best_action,\n",
    "        \"retailer_profit\": best_retailer_profit,\n",
    "        \"manufacturer_profit\": manufacturer_profit\n",
    "    })\n",
    "\n",
    "# Find the optimal (w, action) pair that maximizes manufacturer profit\n",
    "optimal_result = max(results, key=lambda x: x[\"manufacturer_profit\"])\n",
    "\n",
    "# Output the result\n",
    "print(f\"Optimal Manufacturer Price (w): {optimal_result['w']}\")\n",
    "print(f\"Retailer's Optimal Action: {optimal_result['action']}\")\n",
    "print(f\"Retailer Profit: {optimal_result['retailer_profit']}\")\n",
    "print(f\"Manufacturer Profit: {optimal_result['manufacturer_profit']}\")"
   ]
  },
  {
   "cell_type": "code",
   "execution_count": 30,
   "metadata": {},
   "outputs": [
    {
     "name": "stdout",
     "output_type": "stream",
     "text": [
      "Payoff matrix saved to payoff_matrix.xlsx\n"
     ]
    }
   ],
   "source": [
    "# Convert to DataFrame for easy manipulation\n",
    "df = pd.DataFrame(payoff_matrix)\n",
    "\n",
    "# Pivot tables for each type of profit\n",
    "manufacturer_profit_table = df.pivot(index=\"w\", columns=\"action\", values=\"manufacturer_profit\")\n",
    "retailer_profit_table = df.pivot(index=\"w\", columns=\"action\", values=\"retailer_profit\")\n",
    "\n",
    "# Write to Excel\n",
    "with pd.ExcelWriter(\"payoff_matrix.xlsx\") as writer:\n",
    "    manufacturer_profit_table.to_excel(writer, sheet_name=\"Manufacturer Profit\")\n",
    "    retailer_profit_table.to_excel(writer, sheet_name=\"Retailer Profit\")\n",
    "\n",
    "print(\"Payoff matrix saved to payoff_matrix.xlsx\")"
   ]
  }
 ],
 "metadata": {
  "kernelspec": {
   "display_name": "Python 3",
   "language": "python",
   "name": "python3"
  },
  "language_info": {
   "codemirror_mode": {
    "name": "ipython",
    "version": 3
   },
   "file_extension": ".py",
   "mimetype": "text/x-python",
   "name": "python",
   "nbconvert_exporter": "python",
   "pygments_lexer": "ipython3",
   "version": "3.11.3"
  }
 },
 "nbformat": 4,
 "nbformat_minor": 2
}
